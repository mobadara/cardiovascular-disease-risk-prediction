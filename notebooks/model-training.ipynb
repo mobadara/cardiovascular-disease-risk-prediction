{
  "nbformat": 4,
  "nbformat_minor": 0,
  "metadata": {
    "colab": {
      "provenance": [],
      "authorship_tag": "ABX9TyPuxmRfWWKRMfY+01eHRY28"
    },
    "kernelspec": {
      "name": "python3",
      "display_name": "Python 3"
    },
    "language_info": {
      "name": "python"
    }
  },
  "cells": [
    {
      "cell_type": "markdown",
      "source": [
        "[![Open In Colab](https://colab.research.google.com/assets/colab-badge.svg)](https://colab.research.google.com/github/<your_github_username>/<your_repository_name>/blob/main/notebooks/model_development.ipynb)\n",
        "[![Kaggle Notebook](https://kaggle.com/static/images/open-in-kaggle.svg)](https://kaggle.com/kernels/new?source=https://github.com/mobadara/<your_repository_name>/blob/main/notebooks/model_development.ipynb)\n",
        "[![Python](https://img.shields.io/badge/python-3.7+-blue.svg)](https://www.python.org/downloads/)\n",
        "\n",
        "# **Model Development - Cardiovascular Disease Risk Prediction**\n",
        "\n",
        "## **Introduction**\n",
        "This notebook marks the beginning of the model development phase for our Cardiovascular Disease Risk Prediction project. Having thoroughly explored the dataset in the Exploratory Data Analysis (EDA) and enriched it with new features during Feature Engineering, we are now ready to train and compare various machine learning models.\n",
        "\n",
        "* **EDA Notebook:** [![Open In GitHub](https://img.shields.io/badge/View%20EDA%20Notebook-blue?logo=github)](https://github.com/mobadara/cardiovascular-disease-risk-prediction/blob/main/notebooks/exploratory-data-analysis.ipynb)\n",
        "* **Feature Engineering Notebook:** [![Open In GitHub](https://img.shields.io/badge/View%20FE%20Notebook-blue?logo=github)](https://github.com/mobadara/cardiovascular-disease-risk-prediction/blob/main/notebooks/feature-engineering.ipynb)\n",
        "\n",
        "In this notebook, we will focus on building and evaluating several classification models to predict cardiovascular disease (`cardio`), including:\n",
        "\n",
        "* **Logistic Regression**\n",
        "* **Decision Tree / Random Forest**\n",
        "* **Gradient Boosting Machines (e.g., LightGBM, XGBoost)**\n",
        "* And potentially others like **Support Vector Machines (SVM)** or **K-Nearest Neighbors (KNN)**.\n",
        "\n",
        "We will also implement essential preprocessing steps such as One-Hot Encoding and Standard Scaling, and carefully evaluate each model's performance using relevant metrics. Let's get started!"
      ],
      "metadata": {
        "id": "YyxBzzXVy5Tg"
      }
    },
    {
      "cell_type": "markdown",
      "source": [
        "## **Notebook Setup**\n",
        "\n",
        "Before diving into model development, we need to ensure all necessary libraries are imported and initial settings are configured. The following code cell will import the required Python libraries for data manipulation, numerical operations, machine learning model building, and visualization, and set up basic display options for pandas."
      ],
      "metadata": {
        "id": "-wytFxrW1MyC"
      }
    },
    {
      "cell_type": "code",
      "source": [
        "import numpy as np\n",
        "import pandas as pd\n",
        "import matplotlib.pyplot as plt\n",
        "import seaborn as sns\n",
        "from sklearn.model_selection import train_test_split\n",
        "from sklearn.preprocessing import StandardScaler, OneHotEncoder\n",
        "from sklearn.compose import ColumnTransformer\n",
        "from sklearn.pipeline import Pipeline\n",
        "from sklearn.linear_model import LogisticRegression\n",
        "from sklearn.tree import DecisionTreeClassifier\n",
        "from sklearn.ensemble import RandomForestClassifier, GradientBoostingClassifier\n",
        "from xgboost import XGBClassifier\n",
        "from lightgbm import LGBMClassifier\n",
        "from sklearn.svm import SVC\n",
        "from sklearn.neighbors import KNeighborsClassifier\n",
        "from sklearn.metrics import accuracy_score, precision_score, recall_score, f1_score,\\\n",
        "                            roc_auc_score, confusion_matrix, classification_report\n",
        "from sklearn.model_selection import GridSearchCV\n",
        "from sklearn.pipeline import Pipeline\n",
        "from statsmodels.stats.outliers_influence import variance_inflation_factor\n",
        "from statsmodels.tools.tools import add_constant\n",
        "import warnings\n",
        "\n",
        "warnings.filterwarnings('ignore')\n",
        "pd.set_option('display.max_columns', None)"
      ],
      "metadata": {
        "id": "S40AUr1r0zG6"
      },
      "execution_count": 13,
      "outputs": []
    },
    {
      "cell_type": "markdown",
      "source": [
        "## **Data Loading**\n",
        "\n",
        "The initial step in this model development phase is to load the dataset that has undergone the complete feature engineering process. This dataset, enriched with new features like BMI, age in years, and blood pressure categories, was the output of our previous feature engineering notebook and has been saved to the GitHub repository.\n",
        "\n",
        "The following cell will load this prepared dataset directly from its raw URL on GitHub into a pandas DataFrame.\n"
      ],
      "metadata": {
        "id": "ykXYNB270O94"
      }
    },
    {
      "cell_type": "code",
      "execution_count": 17,
      "metadata": {
        "colab": {
          "base_uri": "https://localhost:8080/",
          "height": 313
        },
        "id": "I-a72jE2ycAy",
        "outputId": "e1085ba4-0880-4e83-e3fe-6edda425c006"
      },
      "outputs": [
        {
          "output_type": "execute_result",
          "data": {
            "text/plain": [
              "   id        age  gender  height  weight  ap_hi  ap_lo        cholesterol  \\\n",
              "0   0  50.357290    Male     168    62.0    110     80             Normal   \n",
              "1   1  55.381246  Female     156    85.0    140     90  Well Above Normal   \n",
              "2   2  51.627652  Female     165    64.0    130     70  Well Above Normal   \n",
              "3   3  48.249144    Male     169    82.0    150    100             Normal   \n",
              "4   4  47.841205  Female     156    56.0    100     60             Normal   \n",
              "\n",
              "     gluc smoke alco    active  cardio        bmi    age_group  \\\n",
              "0  Normal    No   No    Active       0  21.967120  Middle-Aged   \n",
              "1  Normal    No   No    Active       1  34.927679       Senior   \n",
              "2  Normal    No   No  Inactive       1  23.507805  Middle-Aged   \n",
              "3  Normal    No   No    Active       1  28.710479  Middle-Aged   \n",
              "4  Normal    No   No  Inactive       0  23.011177  Middle-Aged   \n",
              "\n",
              "  blood_pressure_category  pulse_pressure  \n",
              "0    Hypertension Stage 1              30  \n",
              "1    Hypertension Stage 2              50  \n",
              "2    Hypertension Stage 1              60  \n",
              "3    Hypertension Stage 2              50  \n",
              "4                  Normal              40  "
            ],
            "text/html": [
              "\n",
              "  <div id=\"df-8e0493ef-daec-451e-80e3-05f1e14c5299\" class=\"colab-df-container\">\n",
              "    <div>\n",
              "<style scoped>\n",
              "    .dataframe tbody tr th:only-of-type {\n",
              "        vertical-align: middle;\n",
              "    }\n",
              "\n",
              "    .dataframe tbody tr th {\n",
              "        vertical-align: top;\n",
              "    }\n",
              "\n",
              "    .dataframe thead th {\n",
              "        text-align: right;\n",
              "    }\n",
              "</style>\n",
              "<table border=\"1\" class=\"dataframe\">\n",
              "  <thead>\n",
              "    <tr style=\"text-align: right;\">\n",
              "      <th></th>\n",
              "      <th>id</th>\n",
              "      <th>age</th>\n",
              "      <th>gender</th>\n",
              "      <th>height</th>\n",
              "      <th>weight</th>\n",
              "      <th>ap_hi</th>\n",
              "      <th>ap_lo</th>\n",
              "      <th>cholesterol</th>\n",
              "      <th>gluc</th>\n",
              "      <th>smoke</th>\n",
              "      <th>alco</th>\n",
              "      <th>active</th>\n",
              "      <th>cardio</th>\n",
              "      <th>bmi</th>\n",
              "      <th>age_group</th>\n",
              "      <th>blood_pressure_category</th>\n",
              "      <th>pulse_pressure</th>\n",
              "    </tr>\n",
              "  </thead>\n",
              "  <tbody>\n",
              "    <tr>\n",
              "      <th>0</th>\n",
              "      <td>0</td>\n",
              "      <td>50.357290</td>\n",
              "      <td>Male</td>\n",
              "      <td>168</td>\n",
              "      <td>62.0</td>\n",
              "      <td>110</td>\n",
              "      <td>80</td>\n",
              "      <td>Normal</td>\n",
              "      <td>Normal</td>\n",
              "      <td>No</td>\n",
              "      <td>No</td>\n",
              "      <td>Active</td>\n",
              "      <td>0</td>\n",
              "      <td>21.967120</td>\n",
              "      <td>Middle-Aged</td>\n",
              "      <td>Hypertension Stage 1</td>\n",
              "      <td>30</td>\n",
              "    </tr>\n",
              "    <tr>\n",
              "      <th>1</th>\n",
              "      <td>1</td>\n",
              "      <td>55.381246</td>\n",
              "      <td>Female</td>\n",
              "      <td>156</td>\n",
              "      <td>85.0</td>\n",
              "      <td>140</td>\n",
              "      <td>90</td>\n",
              "      <td>Well Above Normal</td>\n",
              "      <td>Normal</td>\n",
              "      <td>No</td>\n",
              "      <td>No</td>\n",
              "      <td>Active</td>\n",
              "      <td>1</td>\n",
              "      <td>34.927679</td>\n",
              "      <td>Senior</td>\n",
              "      <td>Hypertension Stage 2</td>\n",
              "      <td>50</td>\n",
              "    </tr>\n",
              "    <tr>\n",
              "      <th>2</th>\n",
              "      <td>2</td>\n",
              "      <td>51.627652</td>\n",
              "      <td>Female</td>\n",
              "      <td>165</td>\n",
              "      <td>64.0</td>\n",
              "      <td>130</td>\n",
              "      <td>70</td>\n",
              "      <td>Well Above Normal</td>\n",
              "      <td>Normal</td>\n",
              "      <td>No</td>\n",
              "      <td>No</td>\n",
              "      <td>Inactive</td>\n",
              "      <td>1</td>\n",
              "      <td>23.507805</td>\n",
              "      <td>Middle-Aged</td>\n",
              "      <td>Hypertension Stage 1</td>\n",
              "      <td>60</td>\n",
              "    </tr>\n",
              "    <tr>\n",
              "      <th>3</th>\n",
              "      <td>3</td>\n",
              "      <td>48.249144</td>\n",
              "      <td>Male</td>\n",
              "      <td>169</td>\n",
              "      <td>82.0</td>\n",
              "      <td>150</td>\n",
              "      <td>100</td>\n",
              "      <td>Normal</td>\n",
              "      <td>Normal</td>\n",
              "      <td>No</td>\n",
              "      <td>No</td>\n",
              "      <td>Active</td>\n",
              "      <td>1</td>\n",
              "      <td>28.710479</td>\n",
              "      <td>Middle-Aged</td>\n",
              "      <td>Hypertension Stage 2</td>\n",
              "      <td>50</td>\n",
              "    </tr>\n",
              "    <tr>\n",
              "      <th>4</th>\n",
              "      <td>4</td>\n",
              "      <td>47.841205</td>\n",
              "      <td>Female</td>\n",
              "      <td>156</td>\n",
              "      <td>56.0</td>\n",
              "      <td>100</td>\n",
              "      <td>60</td>\n",
              "      <td>Normal</td>\n",
              "      <td>Normal</td>\n",
              "      <td>No</td>\n",
              "      <td>No</td>\n",
              "      <td>Inactive</td>\n",
              "      <td>0</td>\n",
              "      <td>23.011177</td>\n",
              "      <td>Middle-Aged</td>\n",
              "      <td>Normal</td>\n",
              "      <td>40</td>\n",
              "    </tr>\n",
              "  </tbody>\n",
              "</table>\n",
              "</div>\n",
              "    <div class=\"colab-df-buttons\">\n",
              "\n",
              "  <div class=\"colab-df-container\">\n",
              "    <button class=\"colab-df-convert\" onclick=\"convertToInteractive('df-8e0493ef-daec-451e-80e3-05f1e14c5299')\"\n",
              "            title=\"Convert this dataframe to an interactive table.\"\n",
              "            style=\"display:none;\">\n",
              "\n",
              "  <svg xmlns=\"http://www.w3.org/2000/svg\" height=\"24px\" viewBox=\"0 -960 960 960\">\n",
              "    <path d=\"M120-120v-720h720v720H120Zm60-500h600v-160H180v160Zm220 220h160v-160H400v160Zm0 220h160v-160H400v160ZM180-400h160v-160H180v160Zm440 0h160v-160H620v160ZM180-180h160v-160H180v160Zm440 0h160v-160H620v160Z\"/>\n",
              "  </svg>\n",
              "    </button>\n",
              "\n",
              "  <style>\n",
              "    .colab-df-container {\n",
              "      display:flex;\n",
              "      gap: 12px;\n",
              "    }\n",
              "\n",
              "    .colab-df-convert {\n",
              "      background-color: #E8F0FE;\n",
              "      border: none;\n",
              "      border-radius: 50%;\n",
              "      cursor: pointer;\n",
              "      display: none;\n",
              "      fill: #1967D2;\n",
              "      height: 32px;\n",
              "      padding: 0 0 0 0;\n",
              "      width: 32px;\n",
              "    }\n",
              "\n",
              "    .colab-df-convert:hover {\n",
              "      background-color: #E2EBFA;\n",
              "      box-shadow: 0px 1px 2px rgba(60, 64, 67, 0.3), 0px 1px 3px 1px rgba(60, 64, 67, 0.15);\n",
              "      fill: #174EA6;\n",
              "    }\n",
              "\n",
              "    .colab-df-buttons div {\n",
              "      margin-bottom: 4px;\n",
              "    }\n",
              "\n",
              "    [theme=dark] .colab-df-convert {\n",
              "      background-color: #3B4455;\n",
              "      fill: #D2E3FC;\n",
              "    }\n",
              "\n",
              "    [theme=dark] .colab-df-convert:hover {\n",
              "      background-color: #434B5C;\n",
              "      box-shadow: 0px 1px 3px 1px rgba(0, 0, 0, 0.15);\n",
              "      filter: drop-shadow(0px 1px 2px rgba(0, 0, 0, 0.3));\n",
              "      fill: #FFFFFF;\n",
              "    }\n",
              "  </style>\n",
              "\n",
              "    <script>\n",
              "      const buttonEl =\n",
              "        document.querySelector('#df-8e0493ef-daec-451e-80e3-05f1e14c5299 button.colab-df-convert');\n",
              "      buttonEl.style.display =\n",
              "        google.colab.kernel.accessAllowed ? 'block' : 'none';\n",
              "\n",
              "      async function convertToInteractive(key) {\n",
              "        const element = document.querySelector('#df-8e0493ef-daec-451e-80e3-05f1e14c5299');\n",
              "        const dataTable =\n",
              "          await google.colab.kernel.invokeFunction('convertToInteractive',\n",
              "                                                    [key], {});\n",
              "        if (!dataTable) return;\n",
              "\n",
              "        const docLinkHtml = 'Like what you see? Visit the ' +\n",
              "          '<a target=\"_blank\" href=https://colab.research.google.com/notebooks/data_table.ipynb>data table notebook</a>'\n",
              "          + ' to learn more about interactive tables.';\n",
              "        element.innerHTML = '';\n",
              "        dataTable['output_type'] = 'display_data';\n",
              "        await google.colab.output.renderOutput(dataTable, element);\n",
              "        const docLink = document.createElement('div');\n",
              "        docLink.innerHTML = docLinkHtml;\n",
              "        element.appendChild(docLink);\n",
              "      }\n",
              "    </script>\n",
              "  </div>\n",
              "\n",
              "\n",
              "    <div id=\"df-d4c25ab2-18d2-48b9-9beb-c6f28a1c8f8c\">\n",
              "      <button class=\"colab-df-quickchart\" onclick=\"quickchart('df-d4c25ab2-18d2-48b9-9beb-c6f28a1c8f8c')\"\n",
              "                title=\"Suggest charts\"\n",
              "                style=\"display:none;\">\n",
              "\n",
              "<svg xmlns=\"http://www.w3.org/2000/svg\" height=\"24px\"viewBox=\"0 0 24 24\"\n",
              "     width=\"24px\">\n",
              "    <g>\n",
              "        <path d=\"M19 3H5c-1.1 0-2 .9-2 2v14c0 1.1.9 2 2 2h14c1.1 0 2-.9 2-2V5c0-1.1-.9-2-2-2zM9 17H7v-7h2v7zm4 0h-2V7h2v10zm4 0h-2v-4h2v4z\"/>\n",
              "    </g>\n",
              "</svg>\n",
              "      </button>\n",
              "\n",
              "<style>\n",
              "  .colab-df-quickchart {\n",
              "      --bg-color: #E8F0FE;\n",
              "      --fill-color: #1967D2;\n",
              "      --hover-bg-color: #E2EBFA;\n",
              "      --hover-fill-color: #174EA6;\n",
              "      --disabled-fill-color: #AAA;\n",
              "      --disabled-bg-color: #DDD;\n",
              "  }\n",
              "\n",
              "  [theme=dark] .colab-df-quickchart {\n",
              "      --bg-color: #3B4455;\n",
              "      --fill-color: #D2E3FC;\n",
              "      --hover-bg-color: #434B5C;\n",
              "      --hover-fill-color: #FFFFFF;\n",
              "      --disabled-bg-color: #3B4455;\n",
              "      --disabled-fill-color: #666;\n",
              "  }\n",
              "\n",
              "  .colab-df-quickchart {\n",
              "    background-color: var(--bg-color);\n",
              "    border: none;\n",
              "    border-radius: 50%;\n",
              "    cursor: pointer;\n",
              "    display: none;\n",
              "    fill: var(--fill-color);\n",
              "    height: 32px;\n",
              "    padding: 0;\n",
              "    width: 32px;\n",
              "  }\n",
              "\n",
              "  .colab-df-quickchart:hover {\n",
              "    background-color: var(--hover-bg-color);\n",
              "    box-shadow: 0 1px 2px rgba(60, 64, 67, 0.3), 0 1px 3px 1px rgba(60, 64, 67, 0.15);\n",
              "    fill: var(--button-hover-fill-color);\n",
              "  }\n",
              "\n",
              "  .colab-df-quickchart-complete:disabled,\n",
              "  .colab-df-quickchart-complete:disabled:hover {\n",
              "    background-color: var(--disabled-bg-color);\n",
              "    fill: var(--disabled-fill-color);\n",
              "    box-shadow: none;\n",
              "  }\n",
              "\n",
              "  .colab-df-spinner {\n",
              "    border: 2px solid var(--fill-color);\n",
              "    border-color: transparent;\n",
              "    border-bottom-color: var(--fill-color);\n",
              "    animation:\n",
              "      spin 1s steps(1) infinite;\n",
              "  }\n",
              "\n",
              "  @keyframes spin {\n",
              "    0% {\n",
              "      border-color: transparent;\n",
              "      border-bottom-color: var(--fill-color);\n",
              "      border-left-color: var(--fill-color);\n",
              "    }\n",
              "    20% {\n",
              "      border-color: transparent;\n",
              "      border-left-color: var(--fill-color);\n",
              "      border-top-color: var(--fill-color);\n",
              "    }\n",
              "    30% {\n",
              "      border-color: transparent;\n",
              "      border-left-color: var(--fill-color);\n",
              "      border-top-color: var(--fill-color);\n",
              "      border-right-color: var(--fill-color);\n",
              "    }\n",
              "    40% {\n",
              "      border-color: transparent;\n",
              "      border-right-color: var(--fill-color);\n",
              "      border-top-color: var(--fill-color);\n",
              "    }\n",
              "    60% {\n",
              "      border-color: transparent;\n",
              "      border-right-color: var(--fill-color);\n",
              "    }\n",
              "    80% {\n",
              "      border-color: transparent;\n",
              "      border-right-color: var(--fill-color);\n",
              "      border-bottom-color: var(--fill-color);\n",
              "    }\n",
              "    90% {\n",
              "      border-color: transparent;\n",
              "      border-bottom-color: var(--fill-color);\n",
              "    }\n",
              "  }\n",
              "</style>\n",
              "\n",
              "      <script>\n",
              "        async function quickchart(key) {\n",
              "          const quickchartButtonEl =\n",
              "            document.querySelector('#' + key + ' button');\n",
              "          quickchartButtonEl.disabled = true;  // To prevent multiple clicks.\n",
              "          quickchartButtonEl.classList.add('colab-df-spinner');\n",
              "          try {\n",
              "            const charts = await google.colab.kernel.invokeFunction(\n",
              "                'suggestCharts', [key], {});\n",
              "          } catch (error) {\n",
              "            console.error('Error during call to suggestCharts:', error);\n",
              "          }\n",
              "          quickchartButtonEl.classList.remove('colab-df-spinner');\n",
              "          quickchartButtonEl.classList.add('colab-df-quickchart-complete');\n",
              "        }\n",
              "        (() => {\n",
              "          let quickchartButtonEl =\n",
              "            document.querySelector('#df-d4c25ab2-18d2-48b9-9beb-c6f28a1c8f8c button');\n",
              "          quickchartButtonEl.style.display =\n",
              "            google.colab.kernel.accessAllowed ? 'block' : 'none';\n",
              "        })();\n",
              "      </script>\n",
              "    </div>\n",
              "\n",
              "    </div>\n",
              "  </div>\n"
            ],
            "application/vnd.google.colaboratory.intrinsic+json": {
              "type": "dataframe",
              "variable_name": "df",
              "summary": "{\n  \"name\": \"df\",\n  \"rows\": 70000,\n  \"fields\": [\n    {\n      \"column\": \"id\",\n      \"properties\": {\n        \"dtype\": \"number\",\n        \"std\": 28851,\n        \"min\": 0,\n        \"max\": 99999,\n        \"num_unique_values\": 70000,\n        \"samples\": [\n          66728,\n          69098,\n          59185\n        ],\n        \"semantic_type\": \"\",\n        \"description\": \"\"\n      }\n    },\n    {\n      \"column\": \"age\",\n      \"properties\": {\n        \"dtype\": \"number\",\n        \"std\": 6.754966919209791,\n        \"min\": 29.56331279945243,\n        \"max\": 64.92265571526352,\n        \"num_unique_values\": 8076,\n        \"samples\": [\n          47.4113620807666,\n          58.691307323750856,\n          48.26009582477755\n        ],\n        \"semantic_type\": \"\",\n        \"description\": \"\"\n      }\n    },\n    {\n      \"column\": \"gender\",\n      \"properties\": {\n        \"dtype\": \"category\",\n        \"num_unique_values\": 2,\n        \"samples\": [\n          \"Female\",\n          \"Male\"\n        ],\n        \"semantic_type\": \"\",\n        \"description\": \"\"\n      }\n    },\n    {\n      \"column\": \"height\",\n      \"properties\": {\n        \"dtype\": \"number\",\n        \"std\": 8,\n        \"min\": 55,\n        \"max\": 250,\n        \"num_unique_values\": 109,\n        \"samples\": [\n          125,\n          181\n        ],\n        \"semantic_type\": \"\",\n        \"description\": \"\"\n      }\n    },\n    {\n      \"column\": \"weight\",\n      \"properties\": {\n        \"dtype\": \"number\",\n        \"std\": 14.39575667851056,\n        \"min\": 10.0,\n        \"max\": 200.0,\n        \"num_unique_values\": 287,\n        \"samples\": [\n          68.0,\n          88.5\n        ],\n        \"semantic_type\": \"\",\n        \"description\": \"\"\n      }\n    },\n    {\n      \"column\": \"ap_hi\",\n      \"properties\": {\n        \"dtype\": \"number\",\n        \"std\": 154,\n        \"min\": -150,\n        \"max\": 16020,\n        \"num_unique_values\": 153,\n        \"samples\": [\n          11500,\n          17\n        ],\n        \"semantic_type\": \"\",\n        \"description\": \"\"\n      }\n    },\n    {\n      \"column\": \"ap_lo\",\n      \"properties\": {\n        \"dtype\": \"number\",\n        \"std\": 188,\n        \"min\": -70,\n        \"max\": 11000,\n        \"num_unique_values\": 157,\n        \"samples\": [\n          810,\n          8044\n        ],\n        \"semantic_type\": \"\",\n        \"description\": \"\"\n      }\n    },\n    {\n      \"column\": \"cholesterol\",\n      \"properties\": {\n        \"dtype\": \"category\",\n        \"num_unique_values\": 3,\n        \"samples\": [\n          \"Normal\",\n          \"Well Above Normal\"\n        ],\n        \"semantic_type\": \"\",\n        \"description\": \"\"\n      }\n    },\n    {\n      \"column\": \"gluc\",\n      \"properties\": {\n        \"dtype\": \"category\",\n        \"num_unique_values\": 3,\n        \"samples\": [\n          \"Normal\",\n          \"Above Normal\"\n        ],\n        \"semantic_type\": \"\",\n        \"description\": \"\"\n      }\n    },\n    {\n      \"column\": \"smoke\",\n      \"properties\": {\n        \"dtype\": \"category\",\n        \"num_unique_values\": 2,\n        \"samples\": [\n          \"Yes\",\n          \"No\"\n        ],\n        \"semantic_type\": \"\",\n        \"description\": \"\"\n      }\n    },\n    {\n      \"column\": \"alco\",\n      \"properties\": {\n        \"dtype\": \"category\",\n        \"num_unique_values\": 2,\n        \"samples\": [\n          \"Yes\",\n          \"No\"\n        ],\n        \"semantic_type\": \"\",\n        \"description\": \"\"\n      }\n    },\n    {\n      \"column\": \"active\",\n      \"properties\": {\n        \"dtype\": \"category\",\n        \"num_unique_values\": 2,\n        \"samples\": [\n          \"Inactive\",\n          \"Active\"\n        ],\n        \"semantic_type\": \"\",\n        \"description\": \"\"\n      }\n    },\n    {\n      \"column\": \"cardio\",\n      \"properties\": {\n        \"dtype\": \"number\",\n        \"std\": 0,\n        \"min\": 0,\n        \"max\": 1,\n        \"num_unique_values\": 2,\n        \"samples\": [\n          1,\n          0\n        ],\n        \"semantic_type\": \"\",\n        \"description\": \"\"\n      }\n    },\n    {\n      \"column\": \"bmi\",\n      \"properties\": {\n        \"dtype\": \"number\",\n        \"std\": 6.091511123386126,\n        \"min\": 3.471783865673526,\n        \"max\": 298.6666666666667,\n        \"num_unique_values\": 3803,\n        \"samples\": [\n          27.39225712198685,\n          30.078124999999996\n        ],\n        \"semantic_type\": \"\",\n        \"description\": \"\"\n      }\n    },\n    {\n      \"column\": \"age_group\",\n      \"properties\": {\n        \"dtype\": \"category\",\n        \"num_unique_values\": 3,\n        \"samples\": [\n          \"Middle-Aged\",\n          \"Senior\"\n        ],\n        \"semantic_type\": \"\",\n        \"description\": \"\"\n      }\n    },\n    {\n      \"column\": \"blood_pressure_category\",\n      \"properties\": {\n        \"dtype\": \"category\",\n        \"num_unique_values\": 4,\n        \"samples\": [\n          \"Hypertension Stage 2\",\n          \"Elevated\"\n        ],\n        \"semantic_type\": \"\",\n        \"description\": \"\"\n      }\n    },\n    {\n      \"column\": \"pulse_pressure\",\n      \"properties\": {\n        \"dtype\": \"number\",\n        \"std\": 241,\n        \"min\": -10800,\n        \"max\": 15940,\n        \"num_unique_values\": 305,\n        \"samples\": [\n          28,\n          -1007\n        ],\n        \"semantic_type\": \"\",\n        \"description\": \"\"\n      }\n    }\n  ]\n}"
            }
          },
          "metadata": {},
          "execution_count": 17
        }
      ],
      "source": [
        "df = pd.read_csv('https://raw.githubusercontent.com/mobadara/cardiovascular-disease-risk-prediction/main/data/cardio-engineered.csv')\n",
        "df.head()"
      ]
    },
    {
      "cell_type": "markdown",
      "source": [
        "Let's make sure that the columns are in the right format."
      ],
      "metadata": {
        "id": "4rm1JP-Q6NKQ"
      }
    },
    {
      "cell_type": "code",
      "source": [
        "df.info()"
      ],
      "metadata": {
        "id": "xFu10gTg6VcR",
        "outputId": "b44e6840-0847-4ef3-91fd-0f7de3358222",
        "colab": {
          "base_uri": "https://localhost:8080/"
        }
      },
      "execution_count": 18,
      "outputs": [
        {
          "output_type": "stream",
          "name": "stdout",
          "text": [
            "<class 'pandas.core.frame.DataFrame'>\n",
            "RangeIndex: 70000 entries, 0 to 69999\n",
            "Data columns (total 17 columns):\n",
            " #   Column                   Non-Null Count  Dtype  \n",
            "---  ------                   --------------  -----  \n",
            " 0   id                       70000 non-null  int64  \n",
            " 1   age                      70000 non-null  float64\n",
            " 2   gender                   70000 non-null  object \n",
            " 3   height                   70000 non-null  int64  \n",
            " 4   weight                   70000 non-null  float64\n",
            " 5   ap_hi                    70000 non-null  int64  \n",
            " 6   ap_lo                    70000 non-null  int64  \n",
            " 7   cholesterol              70000 non-null  object \n",
            " 8   gluc                     70000 non-null  object \n",
            " 9   smoke                    70000 non-null  object \n",
            " 10  alco                     70000 non-null  object \n",
            " 11  active                   70000 non-null  object \n",
            " 12  cardio                   70000 non-null  int64  \n",
            " 13  bmi                      70000 non-null  float64\n",
            " 14  age_group                70000 non-null  object \n",
            " 15  blood_pressure_category  70000 non-null  object \n",
            " 16  pulse_pressure           70000 non-null  int64  \n",
            "dtypes: float64(3), int64(6), object(8)\n",
            "memory usage: 9.1+ MB\n"
          ]
        }
      ]
    },
    {
      "cell_type": "code",
      "source": [
        "df['gender'] = df['gender'].astype('category')\n",
        "df['cholesterol'] = df['cholesterol'].astype('category')\n",
        "df['gluc'] = df['gluc'].astype('category')\n",
        "df['smoke'] = df['smoke'].astype('category')\n",
        "df['alco'] = df['alco'].astype('category')\n",
        "df['active'] = df['active'].astype('category')\n",
        "df['age_group'] = df['age_group'].astype('category')\n",
        "df['blood_pressure_category'] = df['blood_pressure_category'].astype('category')"
      ],
      "metadata": {
        "id": "6VcVmZjDFfOk"
      },
      "execution_count": 19,
      "outputs": []
    },
    {
      "cell_type": "code",
      "source": [
        "df.info()"
      ],
      "metadata": {
        "id": "D0KxoB3XFv1R",
        "outputId": "899c272b-61d6-4ee6-d932-53598c88b5e7",
        "colab": {
          "base_uri": "https://localhost:8080/"
        }
      },
      "execution_count": 20,
      "outputs": [
        {
          "output_type": "stream",
          "name": "stdout",
          "text": [
            "<class 'pandas.core.frame.DataFrame'>\n",
            "RangeIndex: 70000 entries, 0 to 69999\n",
            "Data columns (total 17 columns):\n",
            " #   Column                   Non-Null Count  Dtype   \n",
            "---  ------                   --------------  -----   \n",
            " 0   id                       70000 non-null  int64   \n",
            " 1   age                      70000 non-null  float64 \n",
            " 2   gender                   70000 non-null  category\n",
            " 3   height                   70000 non-null  int64   \n",
            " 4   weight                   70000 non-null  float64 \n",
            " 5   ap_hi                    70000 non-null  int64   \n",
            " 6   ap_lo                    70000 non-null  int64   \n",
            " 7   cholesterol              70000 non-null  category\n",
            " 8   gluc                     70000 non-null  category\n",
            " 9   smoke                    70000 non-null  category\n",
            " 10  alco                     70000 non-null  category\n",
            " 11  active                   70000 non-null  category\n",
            " 12  cardio                   70000 non-null  int64   \n",
            " 13  bmi                      70000 non-null  float64 \n",
            " 14  age_group                70000 non-null  category\n",
            " 15  blood_pressure_category  70000 non-null  category\n",
            " 16  pulse_pressure           70000 non-null  int64   \n",
            "dtypes: category(8), float64(3), int64(6)\n",
            "memory usage: 5.3 MB\n"
          ]
        }
      ]
    },
    {
      "cell_type": "markdown",
      "source": [
        "😊 Great!!!"
      ],
      "metadata": {
        "id": "JN97ESPh6biB"
      }
    },
    {
      "cell_type": "markdown",
      "source": [
        "## **Testing for multicolinearity**"
      ],
      "metadata": {
        "id": "VOUVfp3-E3CP"
      }
    },
    {
      "cell_type": "code",
      "source": [
        "features_df = df.drop(columns=['id', 'cardio'])\n",
        "categorical_columns = ['gender', 'cholesterol', 'gluc', 'smoke', 'alco', 'active', 'age_group', 'blood_pressure_category']\n",
        "X_dummy_encoded = pd.get_dummies(features_df, columns=categorical_columns, drop_first=True)\n",
        "# Add a constant (intercept) to the DataFrame for VIF calculation\n",
        "X_vif = add_constant(X_dummy_encoded, has_constant='add')\n",
        "\n",
        "# Calculate VIF for each feature\n",
        "vif_data = pd.DataFrame()\n",
        "vif_data[\"feature\"] = X_vif.columns\n",
        "# Use a loop to handle potential infinite VIFs gracefully or for specific calculations\n",
        "vif_values = []\n",
        "for i in range(X_vif.shape[1]):\n",
        "    try:\n",
        "        vif = variance_inflation_factor(X_vif.values, i)\n",
        "        vif_values.append(vif)\n",
        "    except Exception:\n",
        "        # Handle cases where VIF might be infinite (e.g., perfect collinearity)\n",
        "        vif_values.append(np.inf)\n",
        "\n",
        "vif_data[\"VIF\"] = vif_values\n",
        "\n",
        "# Sort by VIF in descending order\n",
        "vif_data = vif_data.sort_values(by=\"VIF\", ascending=False)\n",
        "\n",
        "print(vif_data)\n"
      ],
      "metadata": {
        "id": "llRr1z94E-M2",
        "outputId": "0d50ce06-ea93-405f-c573-ab4895321e5b",
        "colab": {
          "base_uri": "https://localhost:8080/"
        }
      },
      "execution_count": 31,
      "outputs": [
        {
          "output_type": "stream",
          "name": "stdout",
          "text": [
            "                                         feature  VIF\n",
            "0                                          const  inf\n",
            "1                                            age  inf\n",
            "2                                         height  inf\n",
            "3                                         weight  inf\n",
            "4                                          ap_hi  inf\n",
            "5                                          ap_lo  inf\n",
            "6                                            bmi  inf\n",
            "7                                 pulse_pressure  inf\n",
            "8                                    gender_Male  inf\n",
            "9                             cholesterol_Normal  inf\n",
            "10                 cholesterol_Well Above Normal  inf\n",
            "11                                   gluc_Normal  inf\n",
            "12                        gluc_Well Above Normal  inf\n",
            "13                                     smoke_Yes  inf\n",
            "14                                      alco_Yes  inf\n",
            "15                               active_Inactive  inf\n",
            "16                              age_group_Senior  inf\n",
            "17                         age_group_Young Adult  inf\n",
            "18  blood_pressure_category_Hypertension Stage 1  inf\n",
            "19  blood_pressure_category_Hypertension Stage 2  inf\n",
            "20                blood_pressure_category_Normal  inf\n"
          ]
        }
      ]
    },
    {
      "cell_type": "code",
      "source": [
        "features_dummy_encoded.head().info()"
      ],
      "metadata": {
        "id": "EqbMM50sLkz8",
        "outputId": "9cb7e816-f91d-47d8-b2a1-8df22142b55b",
        "colab": {
          "base_uri": "https://localhost:8080/"
        }
      },
      "execution_count": 26,
      "outputs": [
        {
          "output_type": "stream",
          "name": "stdout",
          "text": [
            "<class 'pandas.core.frame.DataFrame'>\n",
            "RangeIndex: 5 entries, 0 to 4\n",
            "Data columns (total 20 columns):\n",
            " #   Column                                        Non-Null Count  Dtype  \n",
            "---  ------                                        --------------  -----  \n",
            " 0   age                                           5 non-null      float64\n",
            " 1   height                                        5 non-null      int64  \n",
            " 2   weight                                        5 non-null      float64\n",
            " 3   ap_hi                                         5 non-null      int64  \n",
            " 4   ap_lo                                         5 non-null      int64  \n",
            " 5   bmi                                           5 non-null      float64\n",
            " 6   pulse_pressure                                5 non-null      int64  \n",
            " 7   gender_Male                                   5 non-null      bool   \n",
            " 8   cholesterol_Normal                            5 non-null      bool   \n",
            " 9   cholesterol_Well Above Normal                 5 non-null      bool   \n",
            " 10  gluc_Normal                                   5 non-null      bool   \n",
            " 11  gluc_Well Above Normal                        5 non-null      bool   \n",
            " 12  smoke_Yes                                     5 non-null      bool   \n",
            " 13  alco_Yes                                      5 non-null      bool   \n",
            " 14  active_Inactive                               5 non-null      bool   \n",
            " 15  age_group_Senior                              5 non-null      bool   \n",
            " 16  age_group_Young Adult                         5 non-null      bool   \n",
            " 17  blood_pressure_category_Hypertension Stage 1  5 non-null      bool   \n",
            " 18  blood_pressure_category_Hypertension Stage 2  5 non-null      bool   \n",
            " 19  blood_pressure_category_Normal                5 non-null      bool   \n",
            "dtypes: bool(13), float64(3), int64(4)\n",
            "memory usage: 477.0 bytes\n"
          ]
        }
      ]
    },
    {
      "cell_type": "markdown",
      "source": [
        "## **Data Splitting**\n",
        "\n",
        "Before applying any further preprocessing steps or training models, it is essential to split the dataset into training and testing sets. This division ensures that we evaluate our models on data they have not seen during the training phase, providing a more reliable estimate of their generalization performance.\n",
        "\n",
        "We will typically split the data into an 80% training set and a 20% testing set. It is also good practice to stratify the split based on the target variable (**`cardio`**) to ensure that both training and testing sets have a similar proportion of positive and negative cases, especially important given the balanced nature of our target variable."
      ],
      "metadata": {
        "id": "yuWwEcO96z7c"
      }
    },
    {
      "cell_type": "code",
      "source": [
        "X = df.drop('cardio', axis=1)\n",
        "y = df['cardio']\n",
        "X_train, X_test, y_train, y_test = train_test_split(X, y, test_size=0.2, random_state=42, stratify=y)\n",
        "assert X_train.shape[0] == y_train.shape[0]\n",
        "assert X_test.shape[0] == y_test.shape[0]\n",
        "assert X_train.shape[1] == X_test.shape[1]\n",
        "assert y_train.name == y_test.name == 'cardio'"
      ],
      "metadata": {
        "id": "IzbUeNhk0OUB"
      },
      "execution_count": 3,
      "outputs": []
    },
    {
      "cell_type": "markdown",
      "source": [
        "## **Feature Preprocessing with ColumnTransformer and Pipelines**\n",
        "\n",
        "Now that the data is split, the next crucial step is to preprocess the features. We will apply transformations selectively to numerical and categorical columns to prepare them for machine learning models. To manage these transformations efficiently and prevent data leakage, we will leverage Scikit-learn's `ColumnTransformer` and `Pipeline` objects.\n",
        "\n",
        "We will create two separate pipelines:\n",
        "\n",
        "1.  **Numerical Pipeline:** This pipeline will apply `StandardScaler` to all numerical features. Standard Scaling transforms features to have a mean of 0 and a standard deviation of 1, which is important for many algorithms that are sensitive to feature scales (e.g., Logistic Regression, SVMs, KNN).\n",
        "\n",
        "2.  **Categorical Pipeline:** This pipeline will apply `OneHotEncoder` to all categorical features. One-Hot Encoding converts categorical variables into a binary format that machine learning models can interpret, preventing them from assuming ordinal relationships where none exist.\n",
        "\n",
        "Finally, `ColumnTransformer` will be used to combine these pipelines, ensuring each transformation is applied only to its designated column types. This structured approach helps maintain a clean and reproducible preprocessing workflow.\n",
        "\n",
        "Before the we create and apply the transformations on the dataset, we need to drop the high cardinality column (`id`)."
      ],
      "metadata": {
        "id": "_uk-SXS-7lPH"
      }
    },
    {
      "cell_type": "code",
      "source": [
        "X_train.drop(columns=['id'], inplace=True)\n",
        "X_test.drop(columns=['id'], inplace=True)"
      ],
      "metadata": {
        "id": "rWm4V8IJ62Fe"
      },
      "execution_count": 7,
      "outputs": []
    },
    {
      "cell_type": "markdown",
      "source": [
        "Since the data had undergone feature engineering, we need to check the engineered dataset for multicolinearity, most importantly, we will be training linear models that has coeficients."
      ],
      "metadata": {
        "id": "lRV48hXO9DU4"
      }
    },
    {
      "cell_type": "code",
      "source": [],
      "metadata": {
        "id": "Y0IHZ1M_819c",
        "outputId": "a501117f-2100-469f-accd-df17069d259a",
        "colab": {
          "base_uri": "https://localhost:8080/",
          "height": 836
        }
      },
      "execution_count": 12,
      "outputs": [
        {
          "output_type": "display_data",
          "data": {
            "text/plain": [
              "<Figure size 1000x1000 with 2 Axes>"
            ],
            "image/png": "[encoded data removed]"
          },
          "metadata": {}
        }
      ]
    },
    {
      "cell_type": "code",
      "source": [
        "df_"
      ],
      "metadata": {
        "id": "7JskGVXsEibJ"
      },
      "execution_count": null,
      "outputs": []
    },
    {
      "cell_type": "code",
      "source": [
        "# Assuming 'df' is your DataFrame after feature engineering (including 'bmi', 'age_years', 'age_group', 'blood_pressure_category')\n",
        "\n",
        "# --- 1. Prepare the DataFrame for VIF calculation ---\n",
        "# Drop the target variable and the 'id' column as they are not features for VIF\n",
        "features_df = df.drop(columns=['id', 'cardio'])\n",
        "\n",
        "# --- 2. Apply One-Hot Encoding using pd.get_dummies() ---\n",
        "# get_dummies will convert all 'object' (string) columns and by default,\n",
        "# also any numerical columns that look categorical (e.g., gender, cholesterol, gluc, smoke, alco, active).\n",
        "# It's good practice to explicitly specify columns if you have mixed types that get_dummies might misinterpret.\n",
        "\n",
        "# Identify columns to get_dummies for (string/object dtypes and known integer-encoded categoricals)\n",
        "# You need to ensure 'gender', 'cholesterol', 'gluc', 'smoke', 'alco', 'active' are either object dtype\n",
        "# or explicitly passed to get_dummies if they are still int and you want them dummified.\n",
        "# If they are already int (0,1,2,3), get_dummies might treat them as numerical unless specified.\n",
        "\n",
        "# Let's assume the columns we identified as categorical previously are:\n",
        "explicit_categorical_cols = ['gender', 'cholesterol', 'gluc', 'smoke', 'alco', 'active', 'age_group', 'blood_pressure_category']\n",
        "\n",
        "# Convert integer-encoded categorical columns to 'object' dtype first if they aren't already,\n",
        "# to ensure get_dummies treats them as discrete categories.\n",
        "for col in explicit_categorical_cols:\n",
        "    if col in features_df.columns:\n",
        "        features_df[col] = features_df[col].astype('object')\n",
        "\n",
        "# Apply get_dummies to all categorical columns (now correctly typed as 'object')\n",
        "# and other columns that get_dummies might pick up.\n",
        "# drop_first=True helps mitigate perfect multicollinearity in the dummy variables themselves.\n",
        "features_dummy_encoded = pd.get_dummies(features_df, columns=explicit_categorical_cols, drop_first=True)\n",
        "\n",
        "print(f\"Shape of features after dummy encoding: {features_dummy_encoded.shape}\")\n",
        "print(\"\\nFirst 5 rows of dummy-encoded features:\")\n",
        "print(features_dummy_encoded.head())\n",
        "\n",
        "# --- 3. Add a Constant (Intercept) to the DataFrame ---\n",
        "# VIF calculation usually requires an intercept term.\n",
        "X_vif = add_constant(features_dummy_encoded)\n",
        "\n",
        "# --- 4. Calculate VIF for each feature ---\n",
        "vif_data = pd.DataFrame()\n",
        "vif_data[\"feature\"] = X_vif.columns\n",
        "vif_data[\"VIF\"] = [variance_inflation_factor(X_vif.values, i) for i in range(X_vif.shape[1])]\n",
        "\n",
        "# Sort by VIF in descending order for easier inspection\n",
        "vif_data = vif_data.sort_values(by=\"VIF\", ascending=False)\n",
        "\n",
        "print(\"\\nVariance Inflation Factor (VIF) for all features:\")\n",
        "print(vif_data)\n",
        "\n",
        "# --- IMPORTANT NOTES ---\n",
        "# 1. This VIF calculation is performed on the *entire* dataset. In a proper ML workflow,\n",
        "#    you should calculate VIF *only on the training set (X_train_processed)* after it\n",
        "#    has gone through your ColumnTransformer and Pipeline. This prevents data leakage.\n",
        "# 2. pd.get_dummies() vs. OneHotEncoder: While convenient, for a production-ready pipeline,\n",
        "#    OneHotEncoder (especially within a ColumnTransformer) is generally preferred as it\n",
        "#    integrates better with the sklearn ecosystem, handles unseen categories, and fits\n",
        "#    into a consistent transformation pipeline.\n",
        "# 3. High VIF values (e.g., >5 or >10) indicate potential multicollinearity. You would\n",
        "#    then decide whether to address it (e.g., by removing one of the correlated features,\n",
        "#    combining them, or using regularization techniques) based on your goals\n",
        "#    (interpretability vs. pure prediction)."
      ],
      "metadata": {
        "id": "kSU_7bhs-MnO"
      },
      "execution_count": null,
      "outputs": []
    }
  ]
}