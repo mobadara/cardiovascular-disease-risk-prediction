{
  "nbformat": 4,
  "nbformat_minor": 0,
  "metadata": {
    "colab": {
      "provenance": [],
      "authorship_tag": "ABX9TyPCKL0a10nXjBcdq/2I7Bl3"
    },
    "kernelspec": {
      "name": "python3",
      "display_name": "Python 3"
    },
    "language_info": {
      "name": "python"
    }
  },
  "cells": [
    {
      "cell_type": "markdown",
      "source": [
        "[![Open In Colab](https://colab.research.google.com/assets/colab-badge.svg)](https://colab.research.google.com/github/<your_github_username>/<your_repository_name>/blob/main/notebooks/model_development.ipynb)\n",
        "[![Kaggle Notebook](https://kaggle.com/static/images/open-in-kaggle.svg)](https://kaggle.com/kernels/new?source=https://github.com/mobadara/<your_repository_name>/blob/main/notebooks/model_development.ipynb)\n",
        "[![Python](https://img.shields.io/badge/python-3.7+-blue.svg)](https://www.python.org/downloads/)\n",
        "\n",
        "# **Model Development - Cardiovascular Disease Risk Prediction**\n",
        "\n",
        "## **Introduction**\n",
        "This notebook marks the beginning of the model development phase for our Cardiovascular Disease Risk Prediction project. Having thoroughly explored the dataset in the Exploratory Data Analysis (EDA) and enriched it with new features during Feature Engineering, we are now ready to train and compare various machine learning models.\n",
        "\n",
        "* **EDA Notebook:** [![Open In GitHub](https://img.shields.io/badge/View%20EDA%20Notebook-blue?logo=github)](https://github.com/mobadara/cardiovascular-disease-risk-prediction/blob/main/notebooks/exploratory-data-analysis.ipynb)\n",
        "* **Feature Engineering Notebook:** [![Open In GitHub](https://img.shields.io/badge/View%20FE%20Notebook-blue?logo=github)](https://github.com/mobadara/cardiovascular-disease-risk-prediction/blob/main/notebooks/feature-engineering.ipynb)\n",
        "\n",
        "In this notebook, we will focus on building and evaluating several classification models to predict cardiovascular disease (`cardio`), including:\n",
        "\n",
        "* **Logistic Regression**\n",
        "* **Decision Tree / Random Forest**\n",
        "* **Gradient Boosting Machines (e.g., LightGBM, XGBoost)**\n",
        "* And potentially others like **Support Vector Machines (SVM)** or **K-Nearest Neighbors (KNN)**.\n",
        "\n",
        "We will also implement essential preprocessing steps such as One-Hot Encoding and Standard Scaling, and carefully evaluate each model's performance using relevant metrics. Let's get started!"
      ],
      "metadata": {
        "id": "YyxBzzXVy5Tg"
      }
    },
    {
      "cell_type": "markdown",
      "source": [
        "## **Notebook Setup**\n",
        "\n",
        "Before diving into model development, we need to ensure all necessary libraries are imported and initial settings are configured. The following code cell will import the required Python libraries for data manipulation, numerical operations, machine learning model building, and visualization, and set up basic display options for pandas."
      ],
      "metadata": {
        "id": "-wytFxrW1MyC"
      }
    },
    {
      "cell_type": "code",
      "source": [
        "import numpy as np\n",
        "import pandas as pd\n",
        "import matplotlib.pyplot as plt\n",
        "import seaborn as sns\n",
        "from sklearn.model_selection import train_test_split\n",
        "from sklearn.preprocessing import StandardScaler, OneHotEncoder, OrdinalEncoder\n",
        "from sklearn.compose import ColumnTransformer\n",
        "from sklearn.pipeline import Pipeline, make_pipeline\n",
        "from sklearn.linear_model import LogisticRegression\n",
        "from sklearn.tree import DecisionTreeClassifier\n",
        "from sklearn.ensemble import RandomForestClassifier, GradientBoostingClassifier\n",
        "from xgboost import XGBClassifier\n",
        "from lightgbm import LGBMClassifier\n",
        "from sklearn.svm import SVC\n",
        "from sklearn.neighbors import KNeighborsClassifier\n",
        "from sklearn.metrics import accuracy_score, precision_score, recall_score, f1_score,\\\n",
        "                            roc_auc_score, confusion_matrix, classification_report, roc_curve,\\\n",
        "                            auc\n",
        "from sklearn.model_selection import GridSearchCV\n",
        "from sklearn.pipeline import Pipeline\n",
        "\n",
        "import warnings\n",
        "\n",
        "warnings.filterwarnings('ignore')\n",
        "pd.set_option('display.max_columns', None)"
      ],
      "metadata": {
        "id": "S40AUr1r0zG6"
      },
      "execution_count": 1,
      "outputs": []
    },
    {
      "cell_type": "markdown",
      "source": [
        "## **Data Loading**\n",
        "\n",
        "The initial step in this model development phase is to load the dataset that has undergone the complete feature engineering process. This dataset, enriched with new features like BMI, age in years, and blood pressure categories, was the output of our previous feature engineering notebook and has been saved to the GitHub repository.\n",
        "\n",
        "The following cell will load this prepared dataset directly from its raw URL on GitHub into a pandas DataFrame.\n"
      ],
      "metadata": {
        "id": "ykXYNB270O94"
      }
    },
    {
      "cell_type": "code",
      "execution_count": 2,
      "metadata": {
        "colab": {
          "base_uri": "https://localhost:8080/",
          "height": 313
        },
        "id": "I-a72jE2ycAy",
        "outputId": "e4719504-8296-4916-d1d6-bfd1eff5c526"
      },
      "outputs": [
        {
          "output_type": "execute_result",
          "data": {
            "text/plain": [
              "   id        age  gender  height  weight  ap_hi  ap_lo        cholesterol  \\\n",
              "0   0  50.357290    Male     168    62.0    110     80             Normal   \n",
              "1   1  55.381246  Female     156    85.0    140     90  Well Above Normal   \n",
              "2   2  51.627652  Female     165    64.0    130     70  Well Above Normal   \n",
              "3   3  48.249144    Male     169    82.0    150    100             Normal   \n",
              "4   4  47.841205  Female     156    56.0    100     60             Normal   \n",
              "\n",
              "     gluc smoke alco    active  cardio        bmi    age_group  \\\n",
              "0  Normal    No   No    Active       0  21.967120  Middle-Aged   \n",
              "1  Normal    No   No    Active       1  34.927679       Senior   \n",
              "2  Normal    No   No  Inactive       1  23.507805  Middle-Aged   \n",
              "3  Normal    No   No    Active       1  28.710479  Middle-Aged   \n",
              "4  Normal    No   No  Inactive       0  23.011177  Middle-Aged   \n",
              "\n",
              "  blood_pressure_category  pulse_pressure  \n",
              "0    Hypertension Stage 1              30  \n",
              "1    Hypertension Stage 2              50  \n",
              "2    Hypertension Stage 1              60  \n",
              "3    Hypertension Stage 2              50  \n",
              "4                  Normal              40  "
            ],
            "text/html": [
              "\n",
              "  <div id=\"df-97a1513c-9291-4ced-8e05-7ef6e7fc54ff\" class=\"colab-df-container\">\n",
              "    <div>\n",
              "<style scoped>\n",
              "    .dataframe tbody tr th:only-of-type {\n",
              "        vertical-align: middle;\n",
              "    }\n",
              "\n",
              "    .dataframe tbody tr th {\n",
              "        vertical-align: top;\n",
              "    }\n",
              "\n",
              "    .dataframe thead th {\n",
              "        text-align: right;\n",
              "    }\n",
              "</style>\n",
              "<table border=\"1\" class=\"dataframe\">\n",
              "  <thead>\n",
              "    <tr style=\"text-align: right;\">\n",
              "      <th></th>\n",
              "      <th>id</th>\n",
              "      <th>age</th>\n",
              "      <th>gender</th>\n",
              "      <th>height</th>\n",
              "      <th>weight</th>\n",
              "      <th>ap_hi</th>\n",
              "      <th>ap_lo</th>\n",
              "      <th>cholesterol</th>\n",
              "      <th>gluc</th>\n",
              "      <th>smoke</th>\n",
              "      <th>alco</th>\n",
              "      <th>active</th>\n",
              "      <th>cardio</th>\n",
              "      <th>bmi</th>\n",
              "      <th>age_group</th>\n",
              "      <th>blood_pressure_category</th>\n",
              "      <th>pulse_pressure</th>\n",
              "    </tr>\n",
              "  </thead>\n",
              "  <tbody>\n",
              "    <tr>\n",
              "      <th>0</th>\n",
              "      <td>0</td>\n",
              "      <td>50.357290</td>\n",
              "      <td>Male</td>\n",
              "      <td>168</td>\n",
              "      <td>62.0</td>\n",
              "      <td>110</td>\n",
              "      <td>80</td>\n",
              "      <td>Normal</td>\n",
              "      <td>Normal</td>\n",
              "      <td>No</td>\n",
              "      <td>No</td>\n",
              "      <td>Active</td>\n",
              "      <td>0</td>\n",
              "      <td>21.967120</td>\n",
              "      <td>Middle-Aged</td>\n",
              "      <td>Hypertension Stage 1</td>\n",
              "      <td>30</td>\n",
              "    </tr>\n",
              "    <tr>\n",
              "      <th>1</th>\n",
              "      <td>1</td>\n",
              "      <td>55.381246</td>\n",
              "      <td>Female</td>\n",
              "      <td>156</td>\n",
              "      <td>85.0</td>\n",
              "      <td>140</td>\n",
              "      <td>90</td>\n",
              "      <td>Well Above Normal</td>\n",
              "      <td>Normal</td>\n",
              "      <td>No</td>\n",
              "      <td>No</td>\n",
              "      <td>Active</td>\n",
              "      <td>1</td>\n",
              "      <td>34.927679</td>\n",
              "      <td>Senior</td>\n",
              "      <td>Hypertension Stage 2</td>\n",
              "      <td>50</td>\n",
              "    </tr>\n",
              "    <tr>\n",
              "      <th>2</th>\n",
              "      <td>2</td>\n",
              "      <td>51.627652</td>\n",
              "      <td>Female</td>\n",
              "      <td>165</td>\n",
              "      <td>64.0</td>\n",
              "      <td>130</td>\n",
              "      <td>70</td>\n",
              "      <td>Well Above Normal</td>\n",
              "      <td>Normal</td>\n",
              "      <td>No</td>\n",
              "      <td>No</td>\n",
              "      <td>Inactive</td>\n",
              "      <td>1</td>\n",
              "      <td>23.507805</td>\n",
              "      <td>Middle-Aged</td>\n",
              "      <td>Hypertension Stage 1</td>\n",
              "      <td>60</td>\n",
              "    </tr>\n",
              "    <tr>\n",
              "      <th>3</th>\n",
              "      <td>3</td>\n",
              "      <td>48.249144</td>\n",
              "      <td>Male</td>\n",
              "      <td>169</td>\n",
              "      <td>82.0</td>\n",
              "      <td>150</td>\n",
              "      <td>100</td>\n",
              "      <td>Normal</td>\n",
              "      <td>Normal</td>\n",
              "      <td>No</td>\n",
              "      <td>No</td>\n",
              "      <td>Active</td>\n",
              "      <td>1</td>\n",
              "      <td>28.710479</td>\n",
              "      <td>Middle-Aged</td>\n",
              "      <td>Hypertension Stage 2</td>\n",
              "      <td>50</td>\n",
              "    </tr>\n",
              "    <tr>\n",
              "      <th>4</th>\n",
              "      <td>4</td>\n",
              "      <td>47.841205</td>\n",
              "      <td>Female</td>\n",
              "      <td>156</td>\n",
              "      <td>56.0</td>\n",
              "      <td>100</td>\n",
              "      <td>60</td>\n",
              "      <td>Normal</td>\n",
              "      <td>Normal</td>\n",
              "      <td>No</td>\n",
              "      <td>No</td>\n",
              "      <td>Inactive</td>\n",
              "      <td>0</td>\n",
              "      <td>23.011177</td>\n",
              "      <td>Middle-Aged</td>\n",
              "      <td>Normal</td>\n",
              "      <td>40</td>\n",
              "    </tr>\n",
              "  </tbody>\n",
              "</table>\n",
              "</div>\n",
              "    <div class=\"colab-df-buttons\">\n",
              "\n",
              "  <div class=\"colab-df-container\">\n",
              "    <button class=\"colab-df-convert\" onclick=\"convertToInteractive('df-97a1513c-9291-4ced-8e05-7ef6e7fc54ff')\"\n",
              "            title=\"Convert this dataframe to an interactive table.\"\n",
              "            style=\"display:none;\">\n",
              "\n",
              "  <svg xmlns=\"http://www.w3.org/2000/svg\" height=\"24px\" viewBox=\"0 -960 960 960\">\n",
              "    <path d=\"M120-120v-720h720v720H120Zm60-500h600v-160H180v160Zm220 220h160v-160H400v160Zm0 220h160v-160H400v160ZM180-400h160v-160H180v160Zm440 0h160v-160H620v160ZM180-180h160v-160H180v160Zm440 0h160v-160H620v160Z\"/>\n",
              "  </svg>\n",
              "    </button>\n",
              "\n",
              "  <style>\n",
              "    .colab-df-container {\n",
              "      display:flex;\n",
              "      gap: 12px;\n",
              "    }\n",
              "\n",
              "    .colab-df-convert {\n",
              "      background-color: #E8F0FE;\n",
              "      border: none;\n",
              "      border-radius: 50%;\n",
              "      cursor: pointer;\n",
              "      display: none;\n",
              "      fill: #1967D2;\n",
              "      height: 32px;\n",
              "      padding: 0 0 0 0;\n",
              "      width: 32px;\n",
              "    }\n",
              "\n",
              "    .colab-df-convert:hover {\n",
              "      background-color: #E2EBFA;\n",
              "      box-shadow: 0px 1px 2px rgba(60, 64, 67, 0.3), 0px 1px 3px 1px rgba(60, 64, 67, 0.15);\n",
              "      fill: #174EA6;\n",
              "    }\n",
              "\n",
              "    .colab-df-buttons div {\n",
              "      margin-bottom: 4px;\n",
              "    }\n",
              "\n",
              "    [theme=dark] .colab-df-convert {\n",
              "      background-color: #3B4455;\n",
              "      fill: #D2E3FC;\n",
              "    }\n",
              "\n",
              "    [theme=dark] .colab-df-convert:hover {\n",
              "      background-color: #434B5C;\n",
              "      box-shadow: 0px 1px 3px 1px rgba(0, 0, 0, 0.15);\n",
              "      filter: drop-shadow(0px 1px 2px rgba(0, 0, 0, 0.3));\n",
              "      fill: #FFFFFF;\n",
              "    }\n",
              "  </style>\n",
              "\n",
              "    <script>\n",
              "      const buttonEl =\n",
              "        document.querySelector('#df-97a1513c-9291-4ced-8e05-7ef6e7fc54ff button.colab-df-convert');\n",
              "      buttonEl.style.display =\n",
              "        google.colab.kernel.accessAllowed ? 'block' : 'none';\n",
              "\n",
              "      async function convertToInteractive(key) {\n",
              "        const element = document.querySelector('#df-97a1513c-9291-4ced-8e05-7ef6e7fc54ff');\n",
              "        const dataTable =\n",
              "          await google.colab.kernel.invokeFunction('convertToInteractive',\n",
              "                                                    [key], {});\n",
              "        if (!dataTable) return;\n",
              "\n",
              "        const docLinkHtml = 'Like what you see? Visit the ' +\n",
              "          '<a target=\"_blank\" href=https://colab.research.google.com/notebooks/data_table.ipynb>data table notebook</a>'\n",
              "          + ' to learn more about interactive tables.';\n",
              "        element.innerHTML = '';\n",
              "        dataTable['output_type'] = 'display_data';\n",
              "        await google.colab.output.renderOutput(dataTable, element);\n",
              "        const docLink = document.createElement('div');\n",
              "        docLink.innerHTML = docLinkHtml;\n",
              "        element.appendChild(docLink);\n",
              "      }\n",
              "    </script>\n",
              "  </div>\n",
              "\n",
              "\n",
              "    <div id=\"df-2d7d691f-a48b-4bf0-a97b-707feda97a29\">\n",
              "      <button class=\"colab-df-quickchart\" onclick=\"quickchart('df-2d7d691f-a48b-4bf0-a97b-707feda97a29')\"\n",
              "                title=\"Suggest charts\"\n",
              "                style=\"display:none;\">\n",
              "\n",
              "<svg xmlns=\"http://www.w3.org/2000/svg\" height=\"24px\"viewBox=\"0 0 24 24\"\n",
              "     width=\"24px\">\n",
              "    <g>\n",
              "        <path d=\"M19 3H5c-1.1 0-2 .9-2 2v14c0 1.1.9 2 2 2h14c1.1 0 2-.9 2-2V5c0-1.1-.9-2-2-2zM9 17H7v-7h2v7zm4 0h-2V7h2v10zm4 0h-2v-4h2v4z\"/>\n",
              "    </g>\n",
              "</svg>\n",
              "      </button>\n",
              "\n",
              "<style>\n",
              "  .colab-df-quickchart {\n",
              "      --bg-color: #E8F0FE;\n",
              "      --fill-color: #1967D2;\n",
              "      --hover-bg-color: #E2EBFA;\n",
              "      --hover-fill-color: #174EA6;\n",
              "      --disabled-fill-color: #AAA;\n",
              "      --disabled-bg-color: #DDD;\n",
              "  }\n",
              "\n",
              "  [theme=dark] .colab-df-quickchart {\n",
              "      --bg-color: #3B4455;\n",
              "      --fill-color: #D2E3FC;\n",
              "      --hover-bg-color: #434B5C;\n",
              "      --hover-fill-color: #FFFFFF;\n",
              "      --disabled-bg-color: #3B4455;\n",
              "      --disabled-fill-color: #666;\n",
              "  }\n",
              "\n",
              "  .colab-df-quickchart {\n",
              "    background-color: var(--bg-color);\n",
              "    border: none;\n",
              "    border-radius: 50%;\n",
              "    cursor: pointer;\n",
              "    display: none;\n",
              "    fill: var(--fill-color);\n",
              "    height: 32px;\n",
              "    padding: 0;\n",
              "    width: 32px;\n",
              "  }\n",
              "\n",
              "  .colab-df-quickchart:hover {\n",
              "    background-color: var(--hover-bg-color);\n",
              "    box-shadow: 0 1px 2px rgba(60, 64, 67, 0.3), 0 1px 3px 1px rgba(60, 64, 67, 0.15);\n",
              "    fill: var(--button-hover-fill-color);\n",
              "  }\n",
              "\n",
              "  .colab-df-quickchart-complete:disabled,\n",
              "  .colab-df-quickchart-complete:disabled:hover {\n",
              "    background-color: var(--disabled-bg-color);\n",
              "    fill: var(--disabled-fill-color);\n",
              "    box-shadow: none;\n",
              "  }\n",
              "\n",
              "  .colab-df-spinner {\n",
              "    border: 2px solid var(--fill-color);\n",
              "    border-color: transparent;\n",
              "    border-bottom-color: var(--fill-color);\n",
              "    animation:\n",
              "      spin 1s steps(1) infinite;\n",
              "  }\n",
              "\n",
              "  @keyframes spin {\n",
              "    0% {\n",
              "      border-color: transparent;\n",
              "      border-bottom-color: var(--fill-color);\n",
              "      border-left-color: var(--fill-color);\n",
              "    }\n",
              "    20% {\n",
              "      border-color: transparent;\n",
              "      border-left-color: var(--fill-color);\n",
              "      border-top-color: var(--fill-color);\n",
              "    }\n",
              "    30% {\n",
              "      border-color: transparent;\n",
              "      border-left-color: var(--fill-color);\n",
              "      border-top-color: var(--fill-color);\n",
              "      border-right-color: var(--fill-color);\n",
              "    }\n",
              "    40% {\n",
              "      border-color: transparent;\n",
              "      border-right-color: var(--fill-color);\n",
              "      border-top-color: var(--fill-color);\n",
              "    }\n",
              "    60% {\n",
              "      border-color: transparent;\n",
              "      border-right-color: var(--fill-color);\n",
              "    }\n",
              "    80% {\n",
              "      border-color: transparent;\n",
              "      border-right-color: var(--fill-color);\n",
              "      border-bottom-color: var(--fill-color);\n",
              "    }\n",
              "    90% {\n",
              "      border-color: transparent;\n",
              "      border-bottom-color: var(--fill-color);\n",
              "    }\n",
              "  }\n",
              "</style>\n",
              "\n",
              "      <script>\n",
              "        async function quickchart(key) {\n",
              "          const quickchartButtonEl =\n",
              "            document.querySelector('#' + key + ' button');\n",
              "          quickchartButtonEl.disabled = true;  // To prevent multiple clicks.\n",
              "          quickchartButtonEl.classList.add('colab-df-spinner');\n",
              "          try {\n",
              "            const charts = await google.colab.kernel.invokeFunction(\n",
              "                'suggestCharts', [key], {});\n",
              "          } catch (error) {\n",
              "            console.error('Error during call to suggestCharts:', error);\n",
              "          }\n",
              "          quickchartButtonEl.classList.remove('colab-df-spinner');\n",
              "          quickchartButtonEl.classList.add('colab-df-quickchart-complete');\n",
              "        }\n",
              "        (() => {\n",
              "          let quickchartButtonEl =\n",
              "            document.querySelector('#df-2d7d691f-a48b-4bf0-a97b-707feda97a29 button');\n",
              "          quickchartButtonEl.style.display =\n",
              "            google.colab.kernel.accessAllowed ? 'block' : 'none';\n",
              "        })();\n",
              "      </script>\n",
              "    </div>\n",
              "\n",
              "    </div>\n",
              "  </div>\n"
            ],
            "application/vnd.google.colaboratory.intrinsic+json": {
              "type": "dataframe",
              "variable_name": "df",
              "summary": "{\n  \"name\": \"df\",\n  \"rows\": 70000,\n  \"fields\": [\n    {\n      \"column\": \"id\",\n      \"properties\": {\n        \"dtype\": \"number\",\n        \"std\": 28851,\n        \"min\": 0,\n        \"max\": 99999,\n        \"num_unique_values\": 70000,\n        \"samples\": [\n          66728,\n          69098,\n          59185\n        ],\n        \"semantic_type\": \"\",\n        \"description\": \"\"\n      }\n    },\n    {\n      \"column\": \"age\",\n      \"properties\": {\n        \"dtype\": \"number\",\n        \"std\": 6.754966919209791,\n        \"min\": 29.56331279945243,\n        \"max\": 64.92265571526352,\n        \"num_unique_values\": 8076,\n        \"samples\": [\n          47.4113620807666,\n          58.691307323750856,\n          48.26009582477755\n        ],\n        \"semantic_type\": \"\",\n        \"description\": \"\"\n      }\n    },\n    {\n      \"column\": \"gender\",\n      \"properties\": {\n        \"dtype\": \"category\",\n        \"num_unique_values\": 2,\n        \"samples\": [\n          \"Female\",\n          \"Male\"\n        ],\n        \"semantic_type\": \"\",\n        \"description\": \"\"\n      }\n    },\n    {\n      \"column\": \"height\",\n      \"properties\": {\n        \"dtype\": \"number\",\n        \"std\": 8,\n        \"min\": 55,\n        \"max\": 250,\n        \"num_unique_values\": 109,\n        \"samples\": [\n          125,\n          181\n        ],\n        \"semantic_type\": \"\",\n        \"description\": \"\"\n      }\n    },\n    {\n      \"column\": \"weight\",\n      \"properties\": {\n        \"dtype\": \"number\",\n        \"std\": 14.39575667851056,\n        \"min\": 10.0,\n        \"max\": 200.0,\n        \"num_unique_values\": 287,\n        \"samples\": [\n          68.0,\n          88.5\n        ],\n        \"semantic_type\": \"\",\n        \"description\": \"\"\n      }\n    },\n    {\n      \"column\": \"ap_hi\",\n      \"properties\": {\n        \"dtype\": \"number\",\n        \"std\": 154,\n        \"min\": -150,\n        \"max\": 16020,\n        \"num_unique_values\": 153,\n        \"samples\": [\n          11500,\n          17\n        ],\n        \"semantic_type\": \"\",\n        \"description\": \"\"\n      }\n    },\n    {\n      \"column\": \"ap_lo\",\n      \"properties\": {\n        \"dtype\": \"number\",\n        \"std\": 188,\n        \"min\": -70,\n        \"max\": 11000,\n        \"num_unique_values\": 157,\n        \"samples\": [\n          810,\n          8044\n        ],\n        \"semantic_type\": \"\",\n        \"description\": \"\"\n      }\n    },\n    {\n      \"column\": \"cholesterol\",\n      \"properties\": {\n        \"dtype\": \"category\",\n        \"num_unique_values\": 3,\n        \"samples\": [\n          \"Normal\",\n          \"Well Above Normal\"\n        ],\n        \"semantic_type\": \"\",\n        \"description\": \"\"\n      }\n    },\n    {\n      \"column\": \"gluc\",\n      \"properties\": {\n        \"dtype\": \"category\",\n        \"num_unique_values\": 3,\n        \"samples\": [\n          \"Normal\",\n          \"Above Normal\"\n        ],\n        \"semantic_type\": \"\",\n        \"description\": \"\"\n      }\n    },\n    {\n      \"column\": \"smoke\",\n      \"properties\": {\n        \"dtype\": \"category\",\n        \"num_unique_values\": 2,\n        \"samples\": [\n          \"Yes\",\n          \"No\"\n        ],\n        \"semantic_type\": \"\",\n        \"description\": \"\"\n      }\n    },\n    {\n      \"column\": \"alco\",\n      \"properties\": {\n        \"dtype\": \"category\",\n        \"num_unique_values\": 2,\n        \"samples\": [\n          \"Yes\",\n          \"No\"\n        ],\n        \"semantic_type\": \"\",\n        \"description\": \"\"\n      }\n    },\n    {\n      \"column\": \"active\",\n      \"properties\": {\n        \"dtype\": \"category\",\n        \"num_unique_values\": 2,\n        \"samples\": [\n          \"Inactive\",\n          \"Active\"\n        ],\n        \"semantic_type\": \"\",\n        \"description\": \"\"\n      }\n    },\n    {\n      \"column\": \"cardio\",\n      \"properties\": {\n        \"dtype\": \"number\",\n        \"std\": 0,\n        \"min\": 0,\n        \"max\": 1,\n        \"num_unique_values\": 2,\n        \"samples\": [\n          1,\n          0\n        ],\n        \"semantic_type\": \"\",\n        \"description\": \"\"\n      }\n    },\n    {\n      \"column\": \"bmi\",\n      \"properties\": {\n        \"dtype\": \"number\",\n        \"std\": 6.091511123386126,\n        \"min\": 3.471783865673526,\n        \"max\": 298.6666666666667,\n        \"num_unique_values\": 3803,\n        \"samples\": [\n          27.39225712198685,\n          30.078124999999996\n        ],\n        \"semantic_type\": \"\",\n        \"description\": \"\"\n      }\n    },\n    {\n      \"column\": \"age_group\",\n      \"properties\": {\n        \"dtype\": \"category\",\n        \"num_unique_values\": 3,\n        \"samples\": [\n          \"Middle-Aged\",\n          \"Senior\"\n        ],\n        \"semantic_type\": \"\",\n        \"description\": \"\"\n      }\n    },\n    {\n      \"column\": \"blood_pressure_category\",\n      \"properties\": {\n        \"dtype\": \"category\",\n        \"num_unique_values\": 4,\n        \"samples\": [\n          \"Hypertension Stage 2\",\n          \"Elevated\"\n        ],\n        \"semantic_type\": \"\",\n        \"description\": \"\"\n      }\n    },\n    {\n      \"column\": \"pulse_pressure\",\n      \"properties\": {\n        \"dtype\": \"number\",\n        \"std\": 241,\n        \"min\": -10800,\n        \"max\": 15940,\n        \"num_unique_values\": 305,\n        \"samples\": [\n          28,\n          -1007\n        ],\n        \"semantic_type\": \"\",\n        \"description\": \"\"\n      }\n    }\n  ]\n}"
            }
          },
          "metadata": {},
          "execution_count": 2
        }
      ],
      "source": [
        "df = pd.read_csv('https://raw.githubusercontent.com/mobadara/cardiovascular-disease-risk-prediction/main/data/cardio-engineered.csv')\n",
        "df.head()"
      ]
    },
    {
      "cell_type": "markdown",
      "source": [
        "Let's make sure that the columns are in the right format."
      ],
      "metadata": {
        "id": "4rm1JP-Q6NKQ"
      }
    },
    {
      "cell_type": "code",
      "source": [
        "df.info()"
      ],
      "metadata": {
        "id": "xFu10gTg6VcR",
        "outputId": "4b2f63bc-bd6d-48e4-d0da-8c86a7a25377",
        "colab": {
          "base_uri": "https://localhost:8080/"
        }
      },
      "execution_count": 3,
      "outputs": [
        {
          "output_type": "stream",
          "name": "stdout",
          "text": [
            "<class 'pandas.core.frame.DataFrame'>\n",
            "RangeIndex: 70000 entries, 0 to 69999\n",
            "Data columns (total 17 columns):\n",
            " #   Column                   Non-Null Count  Dtype  \n",
            "---  ------                   --------------  -----  \n",
            " 0   id                       70000 non-null  int64  \n",
            " 1   age                      70000 non-null  float64\n",
            " 2   gender                   70000 non-null  object \n",
            " 3   height                   70000 non-null  int64  \n",
            " 4   weight                   70000 non-null  float64\n",
            " 5   ap_hi                    70000 non-null  int64  \n",
            " 6   ap_lo                    70000 non-null  int64  \n",
            " 7   cholesterol              70000 non-null  object \n",
            " 8   gluc                     70000 non-null  object \n",
            " 9   smoke                    70000 non-null  object \n",
            " 10  alco                     70000 non-null  object \n",
            " 11  active                   70000 non-null  object \n",
            " 12  cardio                   70000 non-null  int64  \n",
            " 13  bmi                      70000 non-null  float64\n",
            " 14  age_group                70000 non-null  object \n",
            " 15  blood_pressure_category  70000 non-null  object \n",
            " 16  pulse_pressure           70000 non-null  int64  \n",
            "dtypes: float64(3), int64(6), object(8)\n",
            "memory usage: 9.1+ MB\n"
          ]
        }
      ]
    },
    {
      "cell_type": "markdown",
      "source": [
        "Now, we need to set the data type of each column to the appropriate format. This makes it easy to apply the appropriate transformation to the neccessary column."
      ],
      "metadata": {
        "id": "TWJIZ-UKqNGw"
      }
    },
    {
      "cell_type": "code",
      "source": [
        "df['gender'] = df['gender'].astype('category')\n",
        "df['cholesterol'] = df['cholesterol'].astype('category')\n",
        "df['gluc'] = df['gluc'].astype('category')\n",
        "df['smoke'] = df['smoke'].astype('category')\n",
        "df['alco'] = df['alco'].astype('category')\n",
        "df['active'] = df['active'].astype('category')\n",
        "df['age_group'] = df['age_group'].astype('category')\n",
        "df['blood_pressure_category'] = df['blood_pressure_category'].astype('category')"
      ],
      "metadata": {
        "id": "6VcVmZjDFfOk"
      },
      "execution_count": 4,
      "outputs": []
    },
    {
      "cell_type": "code",
      "source": [
        "df.info()"
      ],
      "metadata": {
        "id": "D0KxoB3XFv1R",
        "outputId": "792f33c5-3616-4ca7-ae5b-02220e3f4447",
        "colab": {
          "base_uri": "https://localhost:8080/"
        }
      },
      "execution_count": 5,
      "outputs": [
        {
          "output_type": "stream",
          "name": "stdout",
          "text": [
            "<class 'pandas.core.frame.DataFrame'>\n",
            "RangeIndex: 70000 entries, 0 to 69999\n",
            "Data columns (total 17 columns):\n",
            " #   Column                   Non-Null Count  Dtype   \n",
            "---  ------                   --------------  -----   \n",
            " 0   id                       70000 non-null  int64   \n",
            " 1   age                      70000 non-null  float64 \n",
            " 2   gender                   70000 non-null  category\n",
            " 3   height                   70000 non-null  int64   \n",
            " 4   weight                   70000 non-null  float64 \n",
            " 5   ap_hi                    70000 non-null  int64   \n",
            " 6   ap_lo                    70000 non-null  int64   \n",
            " 7   cholesterol              70000 non-null  category\n",
            " 8   gluc                     70000 non-null  category\n",
            " 9   smoke                    70000 non-null  category\n",
            " 10  alco                     70000 non-null  category\n",
            " 11  active                   70000 non-null  category\n",
            " 12  cardio                   70000 non-null  int64   \n",
            " 13  bmi                      70000 non-null  float64 \n",
            " 14  age_group                70000 non-null  category\n",
            " 15  blood_pressure_category  70000 non-null  category\n",
            " 16  pulse_pressure           70000 non-null  int64   \n",
            "dtypes: category(8), float64(3), int64(6)\n",
            "memory usage: 5.3 MB\n"
          ]
        }
      ]
    },
    {
      "cell_type": "markdown",
      "source": [
        "## **Multicolinearity**\n",
        "Now that the dataset is in the right format, we need to drop columns that correlates with each other. This is a problem known as multicolinearity. We will also drop high cardinality columns (id in most datasets).\n",
        "\n",
        "A heatmap plotted on the numerical features will enable us to identify features that correlates with themselves."
      ],
      "metadata": {
        "id": "JN97ESPh6biB"
      }
    },
    {
      "cell_type": "code",
      "source": [
        "df.drop(columns='id', inplace=True)"
      ],
      "metadata": {
        "id": "z6fV-dNTLwTc"
      },
      "execution_count": 7,
      "outputs": []
    },
    {
      "cell_type": "code",
      "source": [
        "fig = plt.figure(figsize=(10, 10))\n",
        "ax = sns.heatmap(df.select_dtypes(include='number').corr(), annot=True, cmap='coolwarm')\n",
        "ax.set_title('Correlation Heatmap for Numerical Features')\n",
        "ax.set_yticklabels(ax.get_yticklabels(), rotation=0)\n",
        "plt.show()"
      ],
      "metadata": {
        "id": "Nzv2Wu-1rglT",
        "outputId": "2093f4a1-c962-4ff0-ea7a-5d214d3af6ee",
        "colab": {
          "base_uri": "https://localhost:8080/",
          "height": 853
        }
      },
      "execution_count": 10,
      "outputs": [
        {
          "output_type": "display_data",
          "data": {
            "text/plain": [
              "<Figure size 1000x1000 with 2 Axes>"
            ],
            "image/png": "[encoded data removed]"
          },
          "metadata": {}
        }
      ]
    },
    {
      "cell_type": "markdown",
      "source": [
        "- `weight` is highly correlated with `bmi` as seen but `bmi` is more informative, hence `weight` should be dropped.\n",
        "- `ap_hi` and `ap_lo` are correlated with `pulse_pressure`, and since `pulse_pressure` was derived from the two, the two features can be dropped."
      ],
      "metadata": {
        "id": "VdWPx8J7vlmw"
      }
    },
    {
      "cell_type": "code",
      "source": [
        "df.drop(columns=['weight', 'ap_hi', 'ap_lo'], inplace=True)"
      ],
      "metadata": {
        "id": "JVmdl1vysGVf"
      },
      "execution_count": 11,
      "outputs": []
    },
    {
      "cell_type": "code",
      "source": [
        "df.info(\n",
        "\n",
        ")"
      ],
      "metadata": {
        "id": "7aZC7habwsDX",
        "outputId": "45ad3a05-fd78-4c48-ca5f-12a737813b18",
        "colab": {
          "base_uri": "https://localhost:8080/"
        }
      },
      "execution_count": 13,
      "outputs": [
        {
          "output_type": "stream",
          "name": "stdout",
          "text": [
            "<class 'pandas.core.frame.DataFrame'>\n",
            "RangeIndex: 70000 entries, 0 to 69999\n",
            "Data columns (total 13 columns):\n",
            " #   Column                   Non-Null Count  Dtype   \n",
            "---  ------                   --------------  -----   \n",
            " 0   age                      70000 non-null  float64 \n",
            " 1   gender                   70000 non-null  category\n",
            " 2   height                   70000 non-null  int64   \n",
            " 3   cholesterol              70000 non-null  category\n",
            " 4   gluc                     70000 non-null  category\n",
            " 5   smoke                    70000 non-null  category\n",
            " 6   alco                     70000 non-null  category\n",
            " 7   active                   70000 non-null  category\n",
            " 8   cardio                   70000 non-null  int64   \n",
            " 9   bmi                      70000 non-null  float64 \n",
            " 10  age_group                70000 non-null  category\n",
            " 11  blood_pressure_category  70000 non-null  category\n",
            " 12  pulse_pressure           70000 non-null  int64   \n",
            "dtypes: category(8), float64(2), int64(3)\n",
            "memory usage: 3.2 MB\n"
          ]
        }
      ]
    },
    {
      "cell_type": "code",
      "source": [],
      "metadata": {
        "id": "o7q_6ZmzxnUP"
      },
      "execution_count": null,
      "outputs": []
    }
  ]
}