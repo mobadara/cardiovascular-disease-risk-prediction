{
  "nbformat": 4,
  "nbformat_minor": 0,
  "metadata": {
    "colab": {
      "provenance": [],
      "authorship_tag": "ABX9TyPKx0jLRInGECLq7kn4K12G"
    },
    "kernelspec": {
      "name": "python3",
      "display_name": "Python 3"
    },
    "language_info": {
      "name": "python"
    }
  },
  "cells": [
    {
      "cell_type": "markdown",
      "source": [
        "[![Open In Colab](https://colab.research.google.com/assets/colab-badge.svg)](https://colab.research.google.com/github/mobadara/cardiovascular-disease-risk-prediction/blob/main/notebooks/exploratory-data-analysis.ipynb)\n",
        "[![Kaggle Notebook](https://kaggle.com/static/images/open-in-kaggle.svg)](https://kaggle.com/kernels/new?source=https://github.com/mobadara/cardiovascular-disease-risk-prediction/blob/main/notebooks/exploratory-data-analysis.ipynb)\n",
        "\n",
        "![Banner-Image-Heart](https://storage.googleapis.com/kaggle-datasets-images/107706/256873/21d3eec8c2d5c04b7014f61ae3b516be/dataset-cover.jpg?t=2019-01-20-03-24-00)\n",
        "\n",
        "# **About Dataset**\n",
        "\n",
        "## **Data description**\n",
        "There are 3 types of input features:\n",
        "\n",
        "- **Objective**: factual information;\n",
        "- **Examination**: results of medical examination;\n",
        "- **Subjective**: information given by the patient.\n",
        "\n",
        "**Features**\n",
        "\n",
        "|Feature|  Feature Type | Variable Name|Unit|\n",
        "|-----|-----------------|--------------|----|\n",
        "| Age | Objective Feature | `age` | int (days)\n",
        "| Height | Objective Feature | `height` | int (cm) |\n",
        "| Weight | Objective Feature | `weight` | float (kg) |\n",
        "| Gender | Objective Feature | `gender` | categorical code 1. Woman, 2. Man |\n",
        "| Systolic blood pressure | Examination Feature | `ap_hi` | int |\n",
        "| Diastolic blood pressure | Examination Feature | `ap_lo` | int |\n",
        "| Cholesterol | Examination Feature | `cholesterol` | 1: normal, 2: above normal, 3: well above normal |\n",
        "| Glucose | Examination Feature | `gluc` | 1: normal, 2: above normal, 3: well above normal |\n",
        "| Smoking | Subjective Feature | `smoke` | binary |\n",
        "| Alcohol intake | Subjective Feature | `alco` | binary |\n",
        "| Physical activity | Subjective Feature | `active` | binary |\n",
        "| Presence or absence of cardiovascular disease | Target Variable | `cardio` | binary |\n"
      ],
      "metadata": {
        "id": "6scQXrZPN6GE"
      }
    },
    {
      "cell_type": "markdown",
      "source": [
        "## **Data Source**\n",
        "\n",
        "The dataset used in this project is the \"Cardiovascular Disease Dataset\" by Sulianova, available at:\n",
        "\n",
        "[https://www.kaggle.com/datasets/sulianova/cardiovascular-disease-dataset](https://www.kaggle.com/datasets/sulianova/cardiovascular-disease-dataset)\n",
        "\n",
        "**Reference:** Sulina Nova. (2021). *Cardiovascular Disease Dataset*. Kaggle. Retrieved from [https://www.kaggle.com/datasets/sulianova/cardiovascular-disease-dataset](https://www.kaggle.com/datasets/sulianova/cardiovascular-disease-dataset)"
      ],
      "metadata": {
        "id": "ELyhgOh4UABn"
      }
    },
    {
      "cell_type": "code",
      "source": [],
      "metadata": {
        "id": "_2jLqr8QOWm-"
      },
      "execution_count": null,
      "outputs": []
    }
  ]
}